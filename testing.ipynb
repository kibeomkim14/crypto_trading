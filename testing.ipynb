{
 "cells": [
  {
   "cell_type": "code",
   "execution_count": 1,
   "metadata": {},
   "outputs": [],
   "source": [
    "import numpy as np\n",
    "import pandas as pd"
   ]
  },
  {
   "cell_type": "code",
   "execution_count": 25,
   "metadata": {},
   "outputs": [],
   "source": [
    "def parse_opt_mp_stream(msg):\n",
    "    df_mp = pd.DataFrame(msg['data'])\n",
    "    df_mp.columns = ['eventName', 'time', 'contract', 'markPrice']\n",
    "    df_mp['time'] = pd.to_datetime(df_mp['time'], unit='ms')\n",
    "    df_mp = df_mp.pivot(index='time', columns='contract', values='markPrice')\n",
    "    return df_mp\n",
    "\n",
    "def parse_opt_index_stream(msg):\n",
    "    df_idx = pd.DataFrame([msg['data']])\n",
    "    df_idx.columns = ['eventName', 'time', 'underlying', 'price']\n",
    "    df_idx['time'] = pd.to_datetime(df_idx['time'], unit='ms')\n",
    "    \n",
    "    return df_idx.pivot(index='time', columns='underlying', values='price')"
   ]
  },
  {
   "cell_type": "code",
   "execution_count": 24,
   "metadata": {},
   "outputs": [],
   "source": []
  },
  {
   "cell_type": "code",
   "execution_count": 23,
   "metadata": {},
   "outputs": [
    {
     "data": {
      "text/html": [
       "<div>\n",
       "<style scoped>\n",
       "    .dataframe tbody tr th:only-of-type {\n",
       "        vertical-align: middle;\n",
       "    }\n",
       "\n",
       "    .dataframe tbody tr th {\n",
       "        vertical-align: top;\n",
       "    }\n",
       "\n",
       "    .dataframe thead th {\n",
       "        text-align: right;\n",
       "    }\n",
       "</style>\n",
       "<table border=\"1\" class=\"dataframe\">\n",
       "  <thead>\n",
       "    <tr style=\"text-align: right;\">\n",
       "      <th>s</th>\n",
       "      <th>XRPUSDT</th>\n",
       "    </tr>\n",
       "    <tr>\n",
       "      <th>E</th>\n",
       "      <th></th>\n",
       "    </tr>\n",
       "  </thead>\n",
       "  <tbody>\n",
       "    <tr>\n",
       "      <th>1693840301038</th>\n",
       "      <td>0.49877119</td>\n",
       "    </tr>\n",
       "  </tbody>\n",
       "</table>\n",
       "</div>"
      ],
      "text/plain": [
       "s                 XRPUSDT\n",
       "E                        \n",
       "1693840301038  0.49877119"
      ]
     },
     "execution_count": 23,
     "metadata": {},
     "output_type": "execute_result"
    }
   ],
   "source": [
    "dat = [{'e': 'markPrice', 'E': 1693840301040, 's': 'XRP-230908-0.49-C', 'mp': '1.779'}, {'e': 'markPrice', 'E': 1693840301040, 's': 'XRP-230908-0.49-P', 'mp': '0.904'}, {'e': 'markPrice', 'E': 1693840301040, 's': 'XRP-230908-0.5-C', 'mp': '1.139'}, {'e': 'markPrice', 'E': 1693840301040, 's': 'XRP-230908-0.5-P', 'mp': '1.369'}, {'e': 'markPrice', 'E': 1693840301040, 's': 'XRP-230908-0.51-C', 'mp': '0.694'}]"
   ]
  },
  {
   "cell_type": "code",
   "execution_count": 29,
   "metadata": {},
   "outputs": [],
   "source": [
    "import os\n",
    "BASE_DATA_PATH = \"/Users/kibeom/Desktop/coding/crypto_trading/data/\"\n",
    "underlying ='xrp'\n",
    "symbol = underlying + 'usdt'\n",
    "contract_info = pd.read_csv(os.path.join(BASE_DATA_PATH, 'contracts.csv'))\n",
    "contract_info = contract_info[contract_info['underlying'] == symbol.upper()] \n"
   ]
  },
  {
   "cell_type": "code",
   "execution_count": 34,
   "metadata": {},
   "outputs": [],
   "source": [
    "opt_info = {'data': {'e': '24hrTicker', 'E': 1693843338045, 'T': 1693843338000, 's': 'XRP-230908-0.46-C', 'o': '4.83', 'h': '4.83', 'l': '3.88', 'c': '4.54', 'V': '2.7', 'A': '11.9', 'P': '-0.06', 'p': '-0.29', 'Q': '1', 'F': '1', 'L': '4', 'n': 4, 'bo': '3.96', 'ao': '4.87', 'bq': '78', 'aq': '128.5', 'b': '0.0000006', 'a': '1.0485363', 'd': '0.9286384', 't': '-0.00058517', 'g': '4.32919881', 'v': '0.00006871', 'vo': '0.62426815', 'mp': '4.42', 'hl': '8.193', 'll': '0.65', 'eep': '0'}}\n"
   ]
  },
  {
   "cell_type": "code",
   "execution_count": 41,
   "metadata": {},
   "outputs": [],
   "source": [
    "raw_data = pd.DataFrame([opt_info['data']])\n",
    "raw_data = raw_data[['E', 's', 'o', 'h', 'l', 'c', 'V', 'd', 'g', 'v', 'vo', 'bo', 'ao']]\n",
    "raw_data.columns = ['time', 'contract', 'o', 'h', 'l', 'c', 'v', ]"
   ]
  },
  {
   "cell_type": "code",
   "execution_count": 42,
   "metadata": {},
   "outputs": [
    {
     "data": {
      "text/html": [
       "<div>\n",
       "<style scoped>\n",
       "    .dataframe tbody tr th:only-of-type {\n",
       "        vertical-align: middle;\n",
       "    }\n",
       "\n",
       "    .dataframe tbody tr th {\n",
       "        vertical-align: top;\n",
       "    }\n",
       "\n",
       "    .dataframe thead th {\n",
       "        text-align: right;\n",
       "    }\n",
       "</style>\n",
       "<table border=\"1\" class=\"dataframe\">\n",
       "  <thead>\n",
       "    <tr style=\"text-align: right;\">\n",
       "      <th></th>\n",
       "      <th>E</th>\n",
       "      <th>s</th>\n",
       "      <th>o</th>\n",
       "      <th>h</th>\n",
       "      <th>l</th>\n",
       "      <th>c</th>\n",
       "      <th>v</th>\n",
       "      <th>d</th>\n",
       "      <th>g</th>\n",
       "      <th>v</th>\n",
       "      <th>vo</th>\n",
       "      <th>bo</th>\n",
       "      <th>ao</th>\n",
       "    </tr>\n",
       "  </thead>\n",
       "  <tbody>\n",
       "    <tr>\n",
       "      <th>0</th>\n",
       "      <td>1693843338045</td>\n",
       "      <td>XRP-230908-0.46-C</td>\n",
       "      <td>4.83</td>\n",
       "      <td>4.83</td>\n",
       "      <td>3.88</td>\n",
       "      <td>4.54</td>\n",
       "      <td>0.00006871</td>\n",
       "      <td>0.9286384</td>\n",
       "      <td>4.32919881</td>\n",
       "      <td>0.00006871</td>\n",
       "      <td>0.62426815</td>\n",
       "      <td>3.96</td>\n",
       "      <td>4.87</td>\n",
       "    </tr>\n",
       "  </tbody>\n",
       "</table>\n",
       "</div>"
      ],
      "text/plain": [
       "               E                  s     o     h     l     c           v  \\\n",
       "0  1693843338045  XRP-230908-0.46-C  4.83  4.83  3.88  4.54  0.00006871   \n",
       "\n",
       "           d           g           v          vo    bo    ao  \n",
       "0  0.9286384  4.32919881  0.00006871  0.62426815  3.96  4.87  "
      ]
     },
     "execution_count": 42,
     "metadata": {},
     "output_type": "execute_result"
    }
   ],
   "source": [
    "raw_data"
   ]
  },
  {
   "cell_type": "code",
   "execution_count": null,
   "metadata": {},
   "outputs": [],
   "source": []
  }
 ],
 "metadata": {
  "kernelspec": {
   "display_name": "trading",
   "language": "python",
   "name": "python3"
  },
  "language_info": {
   "codemirror_mode": {
    "name": "ipython",
    "version": 3
   },
   "file_extension": ".py",
   "mimetype": "text/x-python",
   "name": "python",
   "nbconvert_exporter": "python",
   "pygments_lexer": "ipython3",
   "version": "3.11.4"
  },
  "orig_nbformat": 4
 },
 "nbformat": 4,
 "nbformat_minor": 2
}
